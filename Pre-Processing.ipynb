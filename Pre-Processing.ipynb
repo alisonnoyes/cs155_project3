{
 "cells": [
  {
   "cell_type": "markdown",
   "metadata": {},
   "source": [
    "# 3. Pre-Processing"
   ]
  },
  {
   "cell_type": "code",
   "execution_count": 41,
   "metadata": {},
   "outputs": [],
   "source": [
    "import numpy as np\n",
    "from HMM import unsupervised_HMM\n",
    "from HMM_helper import (\n",
    "    text_to_wordcloud,\n",
    "    states_to_wordclouds,\n",
    "    sample_sentence,\n",
    "    visualize_sparsities,\n",
    "    animate_emission,\n",
    "    obs_map_reverser\n",
    ")"
   ]
  },
  {
   "cell_type": "code",
   "execution_count": 72,
   "metadata": {},
   "outputs": [],
   "source": [
    "# Load the data\n",
    "filename = 'data/shakespeare.txt'\n",
    "\n",
    "with open(filename, 'r') as f:\n",
    "    content = f.readlines()\n",
    "    lines = []\n",
    "    for line in content:\n",
    "        line = line.strip(',')\n",
    "        if len(line) > 23:\n",
    "            words = (line.split('\\n')[0].split(' '))\n",
    "            while '' in words : words.remove('')\n",
    "            newWords = []\n",
    "            for w in words:\n",
    "                w = w.strip(' ,.:;?!\\'()').lower()\n",
    "                newWords.append(w)\n",
    "            lines.append(newWords)\n",
    "\n",
    "obs, obs_map = parse_observations(lines)\n",
    "\n",
    "# Syllable data\n",
    "with open('data/Syllable_dictionary.txt', 'r') as syl_f:\n",
    "    syl_content = syl_f.readlines()\n",
    "word_to_syl = {}\n",
    "for l in syl_content:\n",
    "    spl = l.split()\n",
    "    if len(spl) == 3 and (spl[2] == 'E3' or spl[2] == 'E4'):\n",
    "        word_to_syl[spl[0]] = spl[1]\n",
    "    else:\n",
    "        word_to_syl[spl[0]] = spl[len(spl)-1]\n",
    "syllables = []\n",
    "for l in lines:\n",
    "    syl_line = []\n",
    "    for w in l:\n",
    "        if w in word_to_syl.keys():\n",
    "            syl_line.append(int(word_to_syl.get(w)))\n",
    "        else:\n",
    "            new_w = \"\\'\" + w\n",
    "            if new_w in word_to_syl.keys():\n",
    "                syl_line.append(int(word_to_syl.get(new_w)))\n",
    "            else:\n",
    "                syl_line.append(0)\n",
    "    syllables.append(syl_line)\n",
    "#print (\"Syllable data:\", syllables)\n",
    "\n",
    "syl_to_word = {}\n",
    "for l in syl_content:\n",
    "    spl = l.split()\n",
    "    v = spl[0]\n",
    "    # emphasis handling\n",
    "    if len(spl) == 3 and (spl[2] == 'E3' or spl[2] == 'E4'):\n",
    "        k = int(spl[1])\n",
    "    else:\n",
    "        k = int(spl[len(spl)-1])\n",
    "    # adding to dict\n",
    "    if k in syl_to_word.keys():\n",
    "        syl_to_word[k].append(obs_map[v.strip('\\'')])\n",
    "    else:\n",
    "        syl_to_word[k] = [obs_map[v.strip('\\'')]]\n",
    "#print (\"Syllable-to-word dict:\", syl_to_word)"
   ]
  },
  {
   "cell_type": "code",
   "execution_count": 44,
   "metadata": {},
   "outputs": [],
   "source": [
    "def parse_observations(lines):\n",
    "    obs_counter = 0\n",
    "    obs = []\n",
    "    obs_map = {}\n",
    "\n",
    "    for line in lines:\n",
    "        obs_elem = []\n",
    "        \n",
    "        for word in line:\n",
    "            if word not in obs_map:\n",
    "                # Add unique words to the observations map.\n",
    "                obs_map[word] = obs_counter\n",
    "                obs_counter += 1\n",
    "            \n",
    "            # Add the encoded word.\n",
    "            obs_elem.append(obs_map[word])\n",
    "        \n",
    "        # Add the encoded sequence.\n",
    "        obs.append(obs_elem)\n",
    "\n",
    "    return obs, obs_map"
   ]
  },
  {
   "cell_type": "code",
   "execution_count": 45,
   "metadata": {},
   "outputs": [],
   "source": [
    "obs, obs_map = parse_observations(lines)"
   ]
  },
  {
   "cell_type": "code",
   "execution_count": 46,
   "metadata": {},
   "outputs": [
    {
     "name": "stdout",
     "output_type": "stream",
     "text": [
      "Iteration: 10\n",
      "Iteration: 20\n",
      "Iteration: 30\n",
      "Iteration: 40\n",
      "Iteration: 50\n"
     ]
    }
   ],
   "source": [
    "hmm_words = unsupervised_HMM(obs, 5, 50)"
   ]
  },
  {
   "cell_type": "code",
   "execution_count": 47,
   "metadata": {},
   "outputs": [
    {
     "name": "stdout",
     "output_type": "stream",
     "text": [
      "Iteration: 10\n",
      "Iteration: 20\n",
      "Iteration: 30\n",
      "Iteration: 40\n",
      "Iteration: 50\n"
     ]
    }
   ],
   "source": [
    "hmm_syls = unsupervised_HMM(syllables, 5, 50)"
   ]
  },
  {
   "cell_type": "code",
   "execution_count": 109,
   "metadata": {},
   "outputs": [],
   "source": [
    "\"\"\"\n",
    "Combine the results from an HMM trained on the words and an HMM trained on the syllables of the sonnets to\n",
    "create a sentence of desired length\n",
    "\n",
    "Input:\n",
    "    - word_hmm: HMM trained on input of the words of the sonnets\n",
    "    - syllable_hmm: HMM trained on input of the syllables of words of the sonnets\n",
    "    - syllables_to_words: dictionary with keys being number of syllables and values being lists of words\n",
    "        with the corresponding number of syllables\n",
    "    - obs_map: dictionary mapping words to their respective integer encoding\n",
    "    - n_words: number of words for the sentence to have\n",
    "    \n",
    "Output: A string sentence of length n_words words\n",
    "\"\"\"\n",
    "def create_sentence(word_hmm, syllable_hmm, syllables_to_words, obs_map, n_words):\n",
    "    emission = []\n",
    "    seq = syllable_hmm.generate_emission(n_words)[0]\n",
    "    states = word_hmm.generate_emission(n_words)[1]\n",
    "    print(seq)\n",
    "    \n",
    "    indices = syllables_to_words[seq[0]]\n",
    "    probs_sum = sum([word_hmm.O[0][i] for i in indices])\n",
    "    probs = [word_hmm.O[0][i] / probs_sum for i in indices]\n",
    "    word = np.random.choice(indices, p=probs)\n",
    "    emission.append(word)\n",
    "    \n",
    "    for idx in range(1, n_words):\n",
    "        syllables = seq[idx]\n",
    "        indices = syllables_to_words[syllables]\n",
    "        probs_sum = sum([word_hmm.O[states[idx]][i] for i in indices])\n",
    "        probs = [word_hmm.O[states[idx]][i] / probs_sum for i in indices]\n",
    "        word = np.random.choice(indices, p=probs)\n",
    "        emission.append(word)\n",
    "    \n",
    "    obs_map_rev = obs_map_reverser(obs_map)\n",
    "    sentence_array = [obs_map_rev[i] for i in emission]\n",
    "\n",
    "    sentence = ' '.join(sentence_array).capitalize()\n",
    "    return sentence"
   ]
  },
  {
   "cell_type": "code",
   "execution_count": 111,
   "metadata": {},
   "outputs": [
    {
     "name": "stdout",
     "output_type": "stream",
     "text": [
      "[1, 1, 1, 1, 1, 1, 1, 1, 1, 1]\n",
      "Then tongues frown strong which those that thee place we\n"
     ]
    }
   ],
   "source": [
    "print(create_sentence(hmm_words, hmm_syls, syl_to_word, obs_map, 10))"
   ]
  },
  {
   "cell_type": "code",
   "execution_count": null,
   "metadata": {},
   "outputs": [],
   "source": []
  }
 ],
 "metadata": {
  "kernelspec": {
   "display_name": "Python 3",
   "language": "python",
   "name": "python3"
  },
  "language_info": {
   "codemirror_mode": {
    "name": "ipython",
    "version": 3
   },
   "file_extension": ".py",
   "mimetype": "text/x-python",
   "name": "python",
   "nbconvert_exporter": "python",
   "pygments_lexer": "ipython3",
   "version": "3.7.6"
  }
 },
 "nbformat": 4,
 "nbformat_minor": 4
}
